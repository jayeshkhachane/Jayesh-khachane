{
 "cells": [
  {
   "cell_type": "code",
   "execution_count": 1,
   "id": "ad4d8069-28ca-4915-b71f-19ce8dd7ea18",
   "metadata": {},
   "outputs": [],
   "source": [
    "# q1.Declare two variables, `x` and `y`, and assign them integer values. Swap the\n",
    "#values of these variables without using any temporary variable."
   ]
  },
  {
   "cell_type": "code",
   "execution_count": 2,
   "id": "7148fde4-eb1a-44df-93e4-40495ba60dc0",
   "metadata": {},
   "outputs": [],
   "source": [
    "x=10"
   ]
  },
  {
   "cell_type": "code",
   "execution_count": 3,
   "id": "4922bf74-79d3-4124-8778-a4351b813f8c",
   "metadata": {},
   "outputs": [],
   "source": [
    "y=20"
   ]
  },
  {
   "cell_type": "code",
   "execution_count": 4,
   "id": "502aa6a4-07fe-4aa6-979d-591ee1045c51",
   "metadata": {},
   "outputs": [],
   "source": [
    "x=x+y"
   ]
  },
  {
   "cell_type": "code",
   "execution_count": 5,
   "id": "6a36246d-5b78-4ac6-87ed-dd2be90f3b54",
   "metadata": {},
   "outputs": [],
   "source": [
    "y=x-y"
   ]
  },
  {
   "cell_type": "code",
   "execution_count": 10,
   "id": "48c9015a-3b7c-4992-b905-58d16411a108",
   "metadata": {},
   "outputs": [],
   "source": [
    "x=x-y"
   ]
  },
  {
   "cell_type": "code",
   "execution_count": 7,
   "id": "e4acb69f-eb81-4905-8711-1994d83b3941",
   "metadata": {},
   "outputs": [
    {
     "name": "stdout",
     "output_type": "stream",
     "text": [
      "after swapping:\n"
     ]
    }
   ],
   "source": [
    "print(\"after swapping:\")\n",
    "#in this code 'x' and'y' are swapped without using an extra temporary variables"
   ]
  },
  {
   "cell_type": "code",
   "execution_count": 8,
   "id": "8c761619-7460-4e91-a278-f140ed2f7032",
   "metadata": {},
   "outputs": [
    {
     "name": "stdout",
     "output_type": "stream",
     "text": [
      "x= 20\n"
     ]
    }
   ],
   "source": [
    "print(\"x=\",x)"
   ]
  },
  {
   "cell_type": "code",
   "execution_count": 9,
   "id": "2b1fa7a8-db0f-4a2d-b64e-7a673c14adec",
   "metadata": {},
   "outputs": [
    {
     "name": "stdout",
     "output_type": "stream",
     "text": [
      "y= 10\n"
     ]
    }
   ],
   "source": [
    "print(\"y=\",y)"
   ]
  },
  {
   "cell_type": "code",
   "execution_count": 6,
   "id": "f513e97f-1d77-4f0a-b825-d1d9a1949c70",
   "metadata": {},
   "outputs": [],
   "source": [
    "#Create a program that calculates the area of a rectangle. Take the length and\n",
    "#width as inputs from the user and store them in variables. Calculate and\n",
    "#display the area.\n",
    "\n",
    "\n"
   ]
  },
  {
   "cell_type": "code",
   "execution_count": null,
   "id": "d3d44a01-5f44-4e50-956d-a5cb4967424c",
   "metadata": {},
   "outputs": [],
   "source": [
    "length=float(input(\"enter the length of rectangle:\"))"
   ]
  },
  {
   "cell_type": "code",
   "execution_count": 1,
   "id": "b0854109-5cbe-4e78-9659-58ea5e71658a",
   "metadata": {},
   "outputs": [
    {
     "name": "stdin",
     "output_type": "stream",
     "text": [
      "enter the width of rectangle: 23\n"
     ]
    }
   ],
   "source": [
    "width=float(input(\"enter the width of rectangle:\"))"
   ]
  },
  {
   "cell_type": "code",
   "execution_count": 1,
   "id": "072c66b5-1b4a-4ee1-9bf3-d54574c6064b",
   "metadata": {},
   "outputs": [],
   "source": [
    "#calculating the area\n",
    "Area= length*width"
   ]
  },
  {
   "cell_type": "code",
   "execution_count": 6,
   "id": "a58a151e-91b4-4e71-8d23-df506d565c0f",
   "metadata": {},
   "outputs": [],
   "source": [
    "#Write a Python program that converts temperatures from Celsius to\n",
    "#fahrenheit. Take the temperature in Celsius as input, store it in a variable,\n",
    "#convert it to Fahrenheit, and display the result."
   ]
  },
  {
   "cell_type": "code",
   "execution_count": 1,
   "id": "8c339032-981b-4743-82c4-18fcdd7c5bc4",
   "metadata": {},
   "outputs": [
    {
     "name": "stdin",
     "output_type": "stream",
     "text": [
      "Enter the temperature in Celsius:  12\n"
     ]
    }
   ],
   "source": [
    "celsius = float(input(\"Enter the temperature in Celsius: \"))"
   ]
  },
  {
   "cell_type": "code",
   "execution_count": 2,
   "id": "cfd5818c-de74-4dbb-9452-4bd3055817b5",
   "metadata": {},
   "outputs": [],
   "source": [
    "# Converting Celsius to Fahrenheit"
   ]
  },
  {
   "cell_type": "code",
   "execution_count": 3,
   "id": "12a0b439-aebe-4d45-a474-4812d63613f0",
   "metadata": {},
   "outputs": [],
   "source": [
    "fahrenheit = (celsius * 9/5) + 32"
   ]
  },
  {
   "cell_type": "code",
   "execution_count": 4,
   "id": "922e46f7-b834-4f28-9e65-6661ca911de4",
   "metadata": {},
   "outputs": [],
   "source": [
    "# Displaying the result"
   ]
  },
  {
   "cell_type": "code",
   "execution_count": 5,
   "id": "aa21cdbd-cc4d-45d3-abbc-acbdee8261d3",
   "metadata": {},
   "outputs": [
    {
     "name": "stdout",
     "output_type": "stream",
     "text": [
      "The temperature in Fahrenheit is: 53.6\n"
     ]
    }
   ],
   "source": [
    "print(\"The temperature in Fahrenheit is:\", fahrenheit)"
   ]
  },
  {
   "cell_type": "code",
   "execution_count": null,
   "id": "c69029b8-a91d-4fe8-b70d-1a22d30e8bfe",
   "metadata": {},
   "outputs": [],
   "source": []
  }
 ],
 "metadata": {
  "kernelspec": {
   "display_name": "Python 3 (ipykernel)",
   "language": "python",
   "name": "python3"
  },
  "language_info": {
   "codemirror_mode": {
    "name": "ipython",
    "version": 3
   },
   "file_extension": ".py",
   "mimetype": "text/x-python",
   "name": "python",
   "nbconvert_exporter": "python",
   "pygments_lexer": "ipython3",
   "version": "3.10.8"
  }
 },
 "nbformat": 4,
 "nbformat_minor": 5
}
