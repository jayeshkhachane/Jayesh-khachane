{
 "cells": [
  {
   "cell_type": "code",
   "execution_count": 3,
   "id": "8be95459",
   "metadata": {},
   "outputs": [],
   "source": [
    "import numpy as np\n",
    "import matplotlib.pyplot as plt\n",
    "import pandas as pd\n",
    "from sklearn.preprocessing import MinMaxScaler"
   ]
  },
  {
   "cell_type": "code",
   "execution_count": 4,
   "id": "06ac07a6",
   "metadata": {},
   "outputs": [
    {
     "name": "stderr",
     "output_type": "stream",
     "text": [
      "C:\\Users\\Admin\\AppData\\Local\\Temp\\ipykernel_25692\\930745223.py:1: FutureWarning: The argument 'date_parser' is deprecated and will be removed in a future version. Please use 'date_format' instead, or read your data in as 'object' dtype and then call 'to_datetime'.\n",
      "  data = pd.read_csv('GOOG.csv', date_parser = True)\n"
     ]
    },
    {
     "data": {
      "text/html": [
       "<div>\n",
       "<style scoped>\n",
       "    .dataframe tbody tr th:only-of-type {\n",
       "        vertical-align: middle;\n",
       "    }\n",
       "\n",
       "    .dataframe tbody tr th {\n",
       "        vertical-align: top;\n",
       "    }\n",
       "\n",
       "    .dataframe thead th {\n",
       "        text-align: right;\n",
       "    }\n",
       "</style>\n",
       "<table border=\"1\" class=\"dataframe\">\n",
       "  <thead>\n",
       "    <tr style=\"text-align: right;\">\n",
       "      <th></th>\n",
       "      <th>Date</th>\n",
       "      <th>Open</th>\n",
       "      <th>High</th>\n",
       "      <th>Low</th>\n",
       "      <th>Close</th>\n",
       "      <th>Adj Close</th>\n",
       "      <th>Volume</th>\n",
       "    </tr>\n",
       "  </thead>\n",
       "  <tbody>\n",
       "    <tr>\n",
       "      <th>3804</th>\n",
       "      <td>2019-09-30</td>\n",
       "      <td>1220.969971</td>\n",
       "      <td>1226.000000</td>\n",
       "      <td>1212.300049</td>\n",
       "      <td>1219.000000</td>\n",
       "      <td>1219.000000</td>\n",
       "      <td>1404100</td>\n",
       "    </tr>\n",
       "    <tr>\n",
       "      <th>3805</th>\n",
       "      <td>2019-10-01</td>\n",
       "      <td>1219.000000</td>\n",
       "      <td>1231.229980</td>\n",
       "      <td>1203.579956</td>\n",
       "      <td>1205.099976</td>\n",
       "      <td>1205.099976</td>\n",
       "      <td>1273500</td>\n",
       "    </tr>\n",
       "    <tr>\n",
       "      <th>3806</th>\n",
       "      <td>2019-10-02</td>\n",
       "      <td>1196.979980</td>\n",
       "      <td>1196.979980</td>\n",
       "      <td>1171.290039</td>\n",
       "      <td>1176.630005</td>\n",
       "      <td>1176.630005</td>\n",
       "      <td>1615100</td>\n",
       "    </tr>\n",
       "    <tr>\n",
       "      <th>3807</th>\n",
       "      <td>2019-10-03</td>\n",
       "      <td>1180.000000</td>\n",
       "      <td>1189.060059</td>\n",
       "      <td>1162.430054</td>\n",
       "      <td>1187.829956</td>\n",
       "      <td>1187.829956</td>\n",
       "      <td>1621200</td>\n",
       "    </tr>\n",
       "    <tr>\n",
       "      <th>3808</th>\n",
       "      <td>2019-10-04</td>\n",
       "      <td>1191.890015</td>\n",
       "      <td>1211.439941</td>\n",
       "      <td>1189.170044</td>\n",
       "      <td>1209.000000</td>\n",
       "      <td>1209.000000</td>\n",
       "      <td>1021092</td>\n",
       "    </tr>\n",
       "  </tbody>\n",
       "</table>\n",
       "</div>"
      ],
      "text/plain": [
       "            Date         Open         High          Low        Close   \n",
       "3804  2019-09-30  1220.969971  1226.000000  1212.300049  1219.000000  \\\n",
       "3805  2019-10-01  1219.000000  1231.229980  1203.579956  1205.099976   \n",
       "3806  2019-10-02  1196.979980  1196.979980  1171.290039  1176.630005   \n",
       "3807  2019-10-03  1180.000000  1189.060059  1162.430054  1187.829956   \n",
       "3808  2019-10-04  1191.890015  1211.439941  1189.170044  1209.000000   \n",
       "\n",
       "        Adj Close   Volume  \n",
       "3804  1219.000000  1404100  \n",
       "3805  1205.099976  1273500  \n",
       "3806  1176.630005  1615100  \n",
       "3807  1187.829956  1621200  \n",
       "3808  1209.000000  1021092  "
      ]
     },
     "execution_count": 4,
     "metadata": {},
     "output_type": "execute_result"
    }
   ],
   "source": [
    "data = pd.read_csv('GOOG.csv', date_parser = True)\n",
    "data.tail()"
   ]
  },
  {
   "cell_type": "code",
   "execution_count": 5,
   "id": "af47e1fa",
   "metadata": {},
   "outputs": [],
   "source": [
    "data_training = data[data['Date']<'2019-01-01'].copy()\n",
    "data_test = data[data['Date']>='2019-01-01'].copy()"
   ]
  },
  {
   "cell_type": "code",
   "execution_count": 6,
   "id": "2c7d18bc",
   "metadata": {},
   "outputs": [],
   "source": [
    "data_training = data_training.drop(['Date', 'Adj Close'], axis = 1)"
   ]
  },
  {
   "cell_type": "code",
   "execution_count": 7,
   "id": "631804df",
   "metadata": {},
   "outputs": [
    {
     "data": {
      "text/plain": [
       "array([[3.30294890e-04, 9.44785459e-04, 0.00000000e+00, 1.34908021e-04,\n",
       "        5.43577404e-01],\n",
       "       [7.42148227e-04, 2.98909923e-03, 1.88269054e-03, 3.39307537e-03,\n",
       "        2.77885613e-01],\n",
       "       [4.71386886e-03, 4.78092896e-03, 5.42828241e-03, 3.83867225e-03,\n",
       "        2.22150736e-01],\n",
       "       ...,\n",
       "       [7.92197108e-01, 8.11970141e-01, 7.90196475e-01, 8.15799920e-01,\n",
       "        2.54672037e-02],\n",
       "       [8.18777193e-01, 8.21510648e-01, 8.20249255e-01, 8.10219301e-01,\n",
       "        1.70463908e-02],\n",
       "       [8.19874096e-01, 8.19172449e-01, 8.12332341e-01, 8.09012935e-01,\n",
       "        1.79975186e-02]])"
      ]
     },
     "execution_count": 7,
     "metadata": {},
     "output_type": "execute_result"
    }
   ],
   "source": [
    "scaler = MinMaxScaler()\n",
    "data_training = scaler.fit_transform(data_training)\n",
    "data_training"
   ]
  },
  {
   "cell_type": "code",
   "execution_count": 8,
   "id": "60bbb13e",
   "metadata": {},
   "outputs": [
    {
     "data": {
      "text/plain": [
       "array([[3.30294890e-04, 9.44785459e-04, 0.00000000e+00, 1.34908021e-04,\n",
       "        5.43577404e-01],\n",
       "       [7.42148227e-04, 2.98909923e-03, 1.88269054e-03, 3.39307537e-03,\n",
       "        2.77885613e-01],\n",
       "       [4.71386886e-03, 4.78092896e-03, 5.42828241e-03, 3.83867225e-03,\n",
       "        2.22150736e-01],\n",
       "       [4.91367646e-03, 4.01532941e-03, 3.15578542e-03, 1.98678849e-03,\n",
       "        1.85522018e-01],\n",
       "       [2.35285614e-03, 2.54928676e-03, 3.28434064e-03, 2.44873974e-03,\n",
       "        1.11762967e-01],\n",
       "       [2.34877785e-03, 2.52892558e-03, 3.60779701e-03, 3.22955376e-03,\n",
       "        8.62763771e-02],\n",
       "       [3.63326671e-03, 2.80177162e-03, 4.03492722e-03, 2.51005881e-03,\n",
       "        7.55243925e-02],\n",
       "       [2.48334262e-03, 1.52712947e-03, 2.50886935e-03, 8.17608079e-04,\n",
       "        6.31682127e-02],\n",
       "       [1.26817570e-03, 8.02253103e-04, 2.57107531e-03, 9.64778600e-04,\n",
       "        5.97732318e-02],\n",
       "       [1.43128522e-03, 5.00900100e-04, 1.53849690e-03, 9.81131336e-05,\n",
       "        1.11151095e-01]])"
      ]
     },
     "execution_count": 8,
     "metadata": {},
     "output_type": "execute_result"
    }
   ],
   "source": [
    "# create RNN with 60 timesteps, i.e. look 60 previous time steps\n",
    "data_training[0:10]"
   ]
  },
  {
   "cell_type": "code",
   "execution_count": 9,
   "id": "7fec56c4",
   "metadata": {},
   "outputs": [],
   "source": [
    "X_train = []\n",
    "y_train = []"
   ]
  },
  {
   "cell_type": "code",
   "execution_count": 11,
   "id": "3a425a29",
   "metadata": {},
   "outputs": [
    {
     "data": {
      "text/plain": [
       "(3557, 60, 5)"
      ]
     },
     "execution_count": 11,
     "metadata": {},
     "output_type": "execute_result"
    }
   ],
   "source": [
    "for i in range(60, data_training.shape[0]):\n",
    "    X_train.append(data_training[i-60:i])\n",
    "    y_train.append(data_training[i, 0])\n",
    "X_train, y_train = np.array(X_train), np.array(y_train)\n",
    "X_train.shape"
   ]
  },
  {
   "cell_type": "code",
   "execution_count": 12,
   "id": "07384c3b",
   "metadata": {},
   "outputs": [],
   "source": [
    "from tensorflow.keras import Sequential\n",
    "from tensorflow.keras.layers import Dense, LSTM, Dropout"
   ]
  },
  {
   "cell_type": "code",
   "execution_count": 13,
   "id": "43a2c442",
   "metadata": {},
   "outputs": [],
   "source": [
    "regressior = Sequential()\n",
    "\n",
    "regressior.add(LSTM(units = 60, activation = 'relu', return_sequences = True, input_shape = (X_train.shape[1], 5)))\n",
    "regressior.add(Dropout(0.2))\n",
    "\n",
    "regressior.add(LSTM(units = 60, activation = 'relu', return_sequences = True))\n",
    "regressior.add(Dropout(0.2))\n",
    "\n",
    "regressior.add(LSTM(units = 80, activation = 'relu', return_sequences = True))\n",
    "regressior.add(Dropout(0.2))\n",
    "\n",
    "regressior.add(LSTM(units = 120, activation = 'relu'))\n",
    "regressior.add(Dropout(0.2))\n",
    "\n",
    "regressior.add(Dense(units = 1))"
   ]
  },
  {
   "cell_type": "code",
   "execution_count": 14,
   "id": "efd50333",
   "metadata": {},
   "outputs": [
    {
     "name": "stdout",
     "output_type": "stream",
     "text": [
      "Model: \"sequential\"\n",
      "_________________________________________________________________\n",
      " Layer (type)                Output Shape              Param #   \n",
      "=================================================================\n",
      " lstm (LSTM)                 (None, 60, 60)            15840     \n",
      "                                                                 \n",
      " dropout (Dropout)           (None, 60, 60)            0         \n",
      "                                                                 \n",
      " lstm_1 (LSTM)               (None, 60, 60)            29040     \n",
      "                                                                 \n",
      " dropout_1 (Dropout)         (None, 60, 60)            0         \n",
      "                                                                 \n",
      " lstm_2 (LSTM)               (None, 60, 80)            45120     \n",
      "                                                                 \n",
      " dropout_2 (Dropout)         (None, 60, 80)            0         \n",
      "                                                                 \n",
      " lstm_3 (LSTM)               (None, 120)               96480     \n",
      "                                                                 \n",
      " dropout_3 (Dropout)         (None, 120)               0         \n",
      "                                                                 \n",
      " dense (Dense)               (None, 1)                 121       \n",
      "                                                                 \n",
      "=================================================================\n",
      "Total params: 186,601\n",
      "Trainable params: 186,601\n",
      "Non-trainable params: 0\n",
      "_________________________________________________________________\n"
     ]
    }
   ],
   "source": [
    "regressior.summary()"
   ]
  },
  {
   "cell_type": "code",
   "execution_count": 15,
   "id": "157861ad",
   "metadata": {},
   "outputs": [
    {
     "name": "stdout",
     "output_type": "stream",
     "text": [
      "Epoch 1/50\n",
      "112/112 [==============================] - 152s 960ms/step - loss: 0.0144\n",
      "Epoch 2/50\n",
      "112/112 [==============================] - 116s 1s/step - loss: 0.0022\n",
      "Epoch 3/50\n",
      "112/112 [==============================] - 116s 1s/step - loss: 0.0019\n",
      "Epoch 4/50\n",
      "112/112 [==============================] - 104s 929ms/step - loss: 0.0019\n",
      "Epoch 5/50\n",
      "112/112 [==============================] - 106s 945ms/step - loss: 0.0018\n",
      "Epoch 6/50\n",
      "112/112 [==============================] - 104s 925ms/step - loss: 0.0016\n",
      "Epoch 7/50\n",
      "112/112 [==============================] - 102s 913ms/step - loss: 0.0021\n",
      "Epoch 8/50\n",
      "112/112 [==============================] - 107s 958ms/step - loss: 0.0015\n",
      "Epoch 9/50\n",
      "112/112 [==============================] - 108s 966ms/step - loss: 0.0013\n",
      "Epoch 10/50\n",
      "112/112 [==============================] - 122s 1s/step - loss: 0.0012\n",
      "Epoch 11/50\n",
      "112/112 [==============================] - 112s 999ms/step - loss: 0.0012\n",
      "Epoch 12/50\n",
      "112/112 [==============================] - 112s 1s/step - loss: 0.0011\n",
      "Epoch 13/50\n",
      "112/112 [==============================] - 110s 978ms/step - loss: 0.0012\n",
      "Epoch 14/50\n",
      "112/112 [==============================] - 111s 992ms/step - loss: 0.0012\n",
      "Epoch 15/50\n",
      "112/112 [==============================] - 110s 977ms/step - loss: 0.0011\n",
      "Epoch 16/50\n",
      "112/112 [==============================] - 112s 998ms/step - loss: 0.0011\n",
      "Epoch 17/50\n",
      "112/112 [==============================] - 129s 1s/step - loss: 9.8686e-04\n",
      "Epoch 18/50\n",
      "112/112 [==============================] - 108s 964ms/step - loss: 0.0011\n",
      "Epoch 19/50\n",
      "112/112 [==============================] - 106s 944ms/step - loss: 0.0010\n",
      "Epoch 20/50\n",
      "112/112 [==============================] - 101s 896ms/step - loss: 0.0011\n",
      "Epoch 21/50\n",
      "112/112 [==============================] - 100s 893ms/step - loss: 8.9718e-04\n",
      "Epoch 22/50\n",
      "112/112 [==============================] - 99s 880ms/step - loss: 7.8399e-04\n",
      "Epoch 23/50\n",
      "112/112 [==============================] - 12794s 115s/step - loss: 8.3533e-04\n",
      "Epoch 24/50\n",
      "112/112 [==============================] - 40s 360ms/step - loss: 9.0916e-04\n",
      "Epoch 25/50\n",
      "112/112 [==============================] - 40s 358ms/step - loss: 8.1383e-04\n",
      "Epoch 26/50\n",
      "112/112 [==============================] - 47s 418ms/step - loss: 7.9818e-04\n",
      "Epoch 27/50\n",
      "112/112 [==============================] - 45s 400ms/step - loss: 9.7380e-04\n",
      "Epoch 28/50\n",
      "112/112 [==============================] - 50s 444ms/step - loss: 7.3163e-04\n",
      "Epoch 29/50\n",
      "112/112 [==============================] - 50s 445ms/step - loss: 7.8287e-04\n",
      "Epoch 30/50\n",
      "112/112 [==============================] - 48s 427ms/step - loss: 6.6941e-04\n",
      "Epoch 31/50\n",
      "112/112 [==============================] - 46s 414ms/step - loss: 7.3868e-04\n",
      "Epoch 32/50\n",
      "112/112 [==============================] - 48s 427ms/step - loss: 7.5651e-04\n",
      "Epoch 33/50\n",
      "112/112 [==============================] - 46s 413ms/step - loss: 7.2452e-04\n",
      "Epoch 34/50\n",
      "112/112 [==============================] - 51s 452ms/step - loss: 7.1646e-04\n",
      "Epoch 35/50\n",
      "112/112 [==============================] - 53s 472ms/step - loss: 7.2920e-04\n",
      "Epoch 36/50\n",
      "112/112 [==============================] - 49s 440ms/step - loss: 6.6651e-04\n",
      "Epoch 37/50\n",
      "112/112 [==============================] - 52s 469ms/step - loss: 7.0726e-04\n",
      "Epoch 38/50\n",
      "112/112 [==============================] - 49s 435ms/step - loss: 8.1512e-04\n",
      "Epoch 39/50\n",
      "112/112 [==============================] - 49s 436ms/step - loss: 6.3131e-04\n",
      "Epoch 40/50\n",
      "112/112 [==============================] - 48s 427ms/step - loss: 6.6717e-04\n",
      "Epoch 41/50\n",
      "112/112 [==============================] - 50s 444ms/step - loss: 7.5742e-04\n",
      "Epoch 42/50\n",
      "112/112 [==============================] - 55s 491ms/step - loss: 6.3481e-04\n",
      "Epoch 43/50\n",
      "112/112 [==============================] - 50s 446ms/step - loss: 6.7940e-04\n",
      "Epoch 44/50\n",
      "112/112 [==============================] - 49s 442ms/step - loss: 6.5921e-04\n",
      "Epoch 45/50\n",
      "112/112 [==============================] - 52s 460ms/step - loss: 6.0955e-04\n",
      "Epoch 46/50\n",
      "112/112 [==============================] - 50s 445ms/step - loss: 5.9649e-04\n",
      "Epoch 47/50\n",
      "112/112 [==============================] - 54s 487ms/step - loss: 5.9072e-04\n",
      "Epoch 48/50\n",
      "112/112 [==============================] - 54s 481ms/step - loss: 6.3992e-04\n",
      "Epoch 49/50\n",
      "112/112 [==============================] - 57s 511ms/step - loss: 6.4911e-04\n",
      "Epoch 50/50\n",
      "112/112 [==============================] - 52s 468ms/step - loss: 6.5445e-04\n"
     ]
    },
    {
     "data": {
      "text/plain": [
       "<keras.callbacks.History at 0x1ee41ed6390>"
      ]
     },
     "execution_count": 15,
     "metadata": {},
     "output_type": "execute_result"
    }
   ],
   "source": [
    "regressior.compile(optimizer='adam', loss = 'mean_squared_error')\n",
    "regressior.fit(X_train, y_train, epochs=50, batch_size=32)"
   ]
  },
  {
   "cell_type": "code",
   "execution_count": 16,
   "id": "8a27cd99",
   "metadata": {},
   "outputs": [
    {
     "data": {
      "text/html": [
       "<div>\n",
       "<style scoped>\n",
       "    .dataframe tbody tr th:only-of-type {\n",
       "        vertical-align: middle;\n",
       "    }\n",
       "\n",
       "    .dataframe tbody tr th {\n",
       "        vertical-align: top;\n",
       "    }\n",
       "\n",
       "    .dataframe thead th {\n",
       "        text-align: right;\n",
       "    }\n",
       "</style>\n",
       "<table border=\"1\" class=\"dataframe\">\n",
       "  <thead>\n",
       "    <tr style=\"text-align: right;\">\n",
       "      <th></th>\n",
       "      <th>Date</th>\n",
       "      <th>Open</th>\n",
       "      <th>High</th>\n",
       "      <th>Low</th>\n",
       "      <th>Close</th>\n",
       "      <th>Adj Close</th>\n",
       "      <th>Volume</th>\n",
       "    </tr>\n",
       "  </thead>\n",
       "  <tbody>\n",
       "    <tr>\n",
       "      <th>3617</th>\n",
       "      <td>2019-01-02</td>\n",
       "      <td>1016.570007</td>\n",
       "      <td>1052.319946</td>\n",
       "      <td>1015.710022</td>\n",
       "      <td>1045.849976</td>\n",
       "      <td>1045.849976</td>\n",
       "      <td>1532600</td>\n",
       "    </tr>\n",
       "    <tr>\n",
       "      <th>3618</th>\n",
       "      <td>2019-01-03</td>\n",
       "      <td>1041.000000</td>\n",
       "      <td>1056.979980</td>\n",
       "      <td>1014.070007</td>\n",
       "      <td>1016.059998</td>\n",
       "      <td>1016.059998</td>\n",
       "      <td>1841100</td>\n",
       "    </tr>\n",
       "    <tr>\n",
       "      <th>3619</th>\n",
       "      <td>2019-01-04</td>\n",
       "      <td>1032.589966</td>\n",
       "      <td>1070.839966</td>\n",
       "      <td>1027.417969</td>\n",
       "      <td>1070.709961</td>\n",
       "      <td>1070.709961</td>\n",
       "      <td>2093900</td>\n",
       "    </tr>\n",
       "    <tr>\n",
       "      <th>3620</th>\n",
       "      <td>2019-01-07</td>\n",
       "      <td>1071.500000</td>\n",
       "      <td>1074.000000</td>\n",
       "      <td>1054.760010</td>\n",
       "      <td>1068.390015</td>\n",
       "      <td>1068.390015</td>\n",
       "      <td>1981900</td>\n",
       "    </tr>\n",
       "    <tr>\n",
       "      <th>3621</th>\n",
       "      <td>2019-01-08</td>\n",
       "      <td>1076.109985</td>\n",
       "      <td>1084.560059</td>\n",
       "      <td>1060.530029</td>\n",
       "      <td>1076.280029</td>\n",
       "      <td>1076.280029</td>\n",
       "      <td>1764900</td>\n",
       "    </tr>\n",
       "  </tbody>\n",
       "</table>\n",
       "</div>"
      ],
      "text/plain": [
       "            Date         Open         High          Low        Close   \n",
       "3617  2019-01-02  1016.570007  1052.319946  1015.710022  1045.849976  \\\n",
       "3618  2019-01-03  1041.000000  1056.979980  1014.070007  1016.059998   \n",
       "3619  2019-01-04  1032.589966  1070.839966  1027.417969  1070.709961   \n",
       "3620  2019-01-07  1071.500000  1074.000000  1054.760010  1068.390015   \n",
       "3621  2019-01-08  1076.109985  1084.560059  1060.530029  1076.280029   \n",
       "\n",
       "        Adj Close   Volume  \n",
       "3617  1045.849976  1532600  \n",
       "3618  1016.059998  1841100  \n",
       "3619  1070.709961  2093900  \n",
       "3620  1068.390015  1981900  \n",
       "3621  1076.280029  1764900  "
      ]
     },
     "execution_count": 16,
     "metadata": {},
     "output_type": "execute_result"
    }
   ],
   "source": [
    "data_test.head()"
   ]
  },
  {
   "cell_type": "code",
   "execution_count": 17,
   "id": "18976c4d",
   "metadata": {},
   "outputs": [
    {
     "ename": "AttributeError",
     "evalue": "'numpy.ndarray' object has no attribute 'tail'",
     "output_type": "error",
     "traceback": [
      "\u001b[1;31m---------------------------------------------------------------------------\u001b[0m",
      "\u001b[1;31mAttributeError\u001b[0m                            Traceback (most recent call last)",
      "Cell \u001b[1;32mIn[17], line 1\u001b[0m\n\u001b[1;32m----> 1\u001b[0m \u001b[43mdata_training\u001b[49m\u001b[38;5;241;43m.\u001b[39;49m\u001b[43mtail\u001b[49m(\u001b[38;5;241m60\u001b[39m)\n",
      "\u001b[1;31mAttributeError\u001b[0m: 'numpy.ndarray' object has no attribute 'tail'"
     ]
    }
   ],
   "source": [
    "data_training.tail(60)"
   ]
  },
  {
   "cell_type": "code",
   "execution_count": null,
   "id": "659ea174",
   "metadata": {},
   "outputs": [],
   "source": [
    "\n",
    "past_60_days = data_training.tail(60)\n",
    "df = past_60_days.append(data_test, ignore_index = True)\n",
    "df = df.drop(['Date', 'Adj Close'], axis = 1)\n",
    "df.head()"
   ]
  },
  {
   "cell_type": "code",
   "execution_count": null,
   "id": "3ac301e7",
   "metadata": {},
   "outputs": [],
   "source": [
    "inputs = scaler.transform(df)\n",
    "inputs"
   ]
  },
  {
   "cell_type": "code",
   "execution_count": null,
   "id": "c8cc9328",
   "metadata": {},
   "outputs": [],
   "source": [
    "X_test = []\n",
    "y_test = []\n",
    "\n",
    "for i in range(60, inputs.shape[0]):\n",
    "    X_test.append(inputs[i-60:i])\n",
    "    y_test.append(inputs[i, 0])\n",
    "X_test, y_test = np.array(X_test), np.array(y_test)\n",
    "X_test.shape, y_test.shape"
   ]
  },
  {
   "cell_type": "code",
   "execution_count": null,
   "id": "092ea161",
   "metadata": {},
   "outputs": [],
   "source": [
    "y_pred = regressior.predict(X_test)\n",
    "scaler.scale_"
   ]
  },
  {
   "cell_type": "code",
   "execution_count": null,
   "id": "a6f722d4",
   "metadata": {},
   "outputs": [],
   "source": [
    "scale = 1/8.18605127e-04\n",
    "scale"
   ]
  },
  {
   "cell_type": "code",
   "execution_count": null,
   "id": "3f3018b2",
   "metadata": {},
   "outputs": [],
   "source": [
    "y_pred = y_pred*scale\n",
    "y_test = y_test*scale"
   ]
  },
  {
   "cell_type": "code",
   "execution_count": null,
   "id": "6e0d663d",
   "metadata": {},
   "outputs": [],
   "source": [
    "# Visualising the results\n",
    "plt.figure(figsize=(14,5))\n",
    "plt.plot(y_test, color = 'red', label = 'Real Google Stock Price')\n",
    "plt.plot(y_pred, color = 'blue', label = 'Predicted Google Stock Price')\n",
    "plt.title('Google Stock Price Prediction')\n",
    "plt.xlabel('Time')\n",
    "plt.ylabel('Google Stock Price')\n",
    "plt.legend()\n",
    "plt.show()"
   ]
  }
 ],
 "metadata": {
  "kernelspec": {
   "display_name": "Python 3 (ipykernel)",
   "language": "python",
   "name": "python3"
  },
  "language_info": {
   "codemirror_mode": {
    "name": "ipython",
    "version": 3
   },
   "file_extension": ".py",
   "mimetype": "text/x-python",
   "name": "python",
   "nbconvert_exporter": "python",
   "pygments_lexer": "ipython3",
   "version": "3.11.4"
  }
 },
 "nbformat": 4,
 "nbformat_minor": 5
}
