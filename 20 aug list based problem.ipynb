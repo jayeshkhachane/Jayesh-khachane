{
 "cells": [
  {
   "cell_type": "code",
   "execution_count": 1,
   "id": "8c0997f9-b24b-4480-8d67-4edb4edd6a76",
   "metadata": {},
   "outputs": [],
   "source": [
    "#1) create a list with integers from 1 to 10"
   ]
  },
  {
   "cell_type": "code",
   "execution_count": 4,
   "id": "9b31d641-da88-4d55-b2fa-b544121e1d2a",
   "metadata": {},
   "outputs": [],
   "source": [
    "\n",
    "my_list=list(range(1,11))\n"
   ]
  },
  {
   "cell_type": "code",
   "execution_count": 5,
   "id": "c585aba4-970f-49a5-8b48-5e1e01b71bba",
   "metadata": {},
   "outputs": [
    {
     "data": {
      "text/plain": [
       "[1, 2, 3, 4, 5, 6, 7, 8, 9, 10]"
      ]
     },
     "execution_count": 5,
     "metadata": {},
     "output_type": "execute_result"
    }
   ],
   "source": [
    "my_list"
   ]
  },
  {
   "cell_type": "code",
   "execution_count": 6,
   "id": "0820ba05-0036-44d0-847b-34c9d006f670",
   "metadata": {},
   "outputs": [],
   "source": [
    "#2) find the length of a list without using the 'len()'function"
   ]
  },
  {
   "cell_type": "code",
   "execution_count": 9,
   "id": "5ef3d878-c8ab-44e1-9870-eaf496f1755b",
   "metadata": {},
   "outputs": [
    {
     "name": "stdout",
     "output_type": "stream",
     "text": [
      "Length of the list: 5\n"
     ]
    }
   ],
   "source": [
    "def find_length_of_list(my_list):\n",
    "    count = 0\n",
    "    for _ in my_list:\n",
    "        count += 1\n",
    "    return count\n",
    "\n",
    "# Example usage:\n",
    "my_list = [1, 2, 3, 4, 5]\n",
    "length = find_length_of_list(my_list)\n",
    "print(\"Length of the list:\", length)\n"
   ]
  },
  {
   "cell_type": "code",
   "execution_count": 10,
   "id": "ae8a81e7-8405-4287-b58a-53363f71f98b",
   "metadata": {},
   "outputs": [],
   "source": [
    "#3) append an element to the end of list"
   ]
  },
  {
   "cell_type": "code",
   "execution_count": 11,
   "id": "47327c51-207e-4903-8563-6623c46cba1e",
   "metadata": {},
   "outputs": [],
   "source": [
    "my_list =[1,2,3,4]"
   ]
  },
  {
   "cell_type": "code",
   "execution_count": 12,
   "id": "8cbceb6e-bab0-4239-b9af-57ab5c6e50d1",
   "metadata": {},
   "outputs": [],
   "source": [
    "new_element=5"
   ]
  },
  {
   "cell_type": "code",
   "execution_count": 13,
   "id": "2725e438-91a1-4d53-9db0-0c2ed4431d93",
   "metadata": {},
   "outputs": [],
   "source": [
    "my_list.append(new_element)\n"
   ]
  },
  {
   "cell_type": "code",
   "execution_count": 14,
   "id": "c6217725-279a-42d1-ad78-dc14229c00ac",
   "metadata": {},
   "outputs": [
    {
     "name": "stdout",
     "output_type": "stream",
     "text": [
      "[1, 2, 3, 4, 5]\n"
     ]
    }
   ],
   "source": [
    "print(my_list)"
   ]
  },
  {
   "cell_type": "code",
   "execution_count": 15,
   "id": "5dac053d-21d9-44af-aa47-a88b5c8aa75d",
   "metadata": {},
   "outputs": [],
   "source": [
    "#4)insert an element at a specific index in a list"
   ]
  },
  {
   "cell_type": "code",
   "execution_count": 17,
   "id": "7bfd826e-0125-4894-8b25-86690c896ffe",
   "metadata": {},
   "outputs": [
    {
     "name": "stdout",
     "output_type": "stream",
     "text": [
      "[1, 2, 3, 6, 4]\n"
     ]
    }
   ],
   "source": [
    "my_list= [1,2,3,4]\n",
    "new_element=6\n",
    "index_to_insert=3\n",
    "my_list.insert(index_to_insert,new_element)\n",
    "print(my_list)"
   ]
  },
  {
   "cell_type": "code",
   "execution_count": 18,
   "id": "8fd1a97a-6a31-4cdf-9154-ef377a694fb4",
   "metadata": {},
   "outputs": [],
   "source": [
    "#5) Remove an element from a list by its value"
   ]
  },
  {
   "cell_type": "code",
   "execution_count": 20,
   "id": "adc79d22-03b7-49fe-833d-e122d5091a27",
   "metadata": {},
   "outputs": [
    {
     "name": "stdout",
     "output_type": "stream",
     "text": [
      "[1, 2, 3, 4, 5]\n"
     ]
    }
   ],
   "source": [
    "my_list = [1,2,3,4,4,5,]\n",
    "value_to_remove=4\n",
    "my_list.remove(value_to_remove)\n",
    "print(my_list)"
   ]
  },
  {
   "cell_type": "code",
   "execution_count": 21,
   "id": "38fa2c35-305c-4cdc-a980-a2c9f5914bc8",
   "metadata": {},
   "outputs": [],
   "source": [
    "#6)Remove an element from a list by its index."
   ]
  },
  {
   "cell_type": "code",
   "execution_count": 24,
   "id": "aee427ef-0bc9-4baf-9a04-5c2e97ce30b1",
   "metadata": {},
   "outputs": [
    {
     "name": "stdout",
     "output_type": "stream",
     "text": [
      "removed element: 4\n",
      "updated list: [1, 2, 3, 5]\n"
     ]
    }
   ],
   "source": [
    "my_list=[1,2,3,4,5]\n",
    "index_to_remove=3\n",
    "removed_element=my_list.pop(index_to_remove)\n",
    "print(\"removed element:\",removed_element)\n",
    "print(\"updated list:\",my_list)"
   ]
  },
  {
   "cell_type": "code",
   "execution_count": 25,
   "id": "f0f05574-cb03-46b4-8abc-755eb0476b05",
   "metadata": {},
   "outputs": [],
   "source": [
    "#7) CHECK IF AN ELEMENT EXISTS IN A LIST"
   ]
  },
  {
   "cell_type": "code",
   "execution_count": 31,
   "id": "82e9f065-6bc8-4aa4-afa4-21e416254f6d",
   "metadata": {},
   "outputs": [
    {
     "name": "stdout",
     "output_type": "stream",
     "text": [
      "10 does not exists in the list.\n"
     ]
    }
   ],
   "source": [
    "my_list=[1,2,3,4,5]\n",
    "element_to_check=10\n",
    "if element_to_check in my_list:\n",
    "    print(f\"{element_to_check} exists in the list.\")\n",
    "else:\n",
    "    print(f\"{element_to_check} does not exists in the list.\")"
   ]
  },
  {
   "cell_type": "code",
   "execution_count": 32,
   "id": "6bf415c0-37d2-4426-b494-2c0f52fc64c0",
   "metadata": {},
   "outputs": [],
   "source": [
    "#8)count the occurrences of an element in a list"
   ]
  },
  {
   "cell_type": "code",
   "execution_count": 36,
   "id": "08d34673-fcd2-4c74-96f9-a155f10de366",
   "metadata": {},
   "outputs": [
    {
     "name": "stdout",
     "output_type": "stream",
     "text": [
      "the element 6 appears 0 times in the list .\n"
     ]
    }
   ],
   "source": [
    "my_list=[1,2,3,4,3,5,3]\n",
    "element_to_count=6\n",
    "count=my_list.count(element_to_count)\n",
    "print(f\"the element {element_to_count} appears {count} times in the list .\")"
   ]
  },
  {
   "cell_type": "code",
   "execution_count": 37,
   "id": "5ca162e6-8bd8-4c24-80a7-06f63c36788b",
   "metadata": {},
   "outputs": [],
   "source": [
    "#9) Reverse the order of element in a list"
   ]
  },
  {
   "cell_type": "code",
   "execution_count": 38,
   "id": "cc03c024-35ee-48d7-b609-39d93d47a346",
   "metadata": {},
   "outputs": [
    {
     "name": "stdout",
     "output_type": "stream",
     "text": [
      "[5, 4, 3, 2, 1]\n"
     ]
    }
   ],
   "source": [
    "my_list=[1,2,3,4,5]\n",
    "my_list.reverse()\n",
    "print(my_list)"
   ]
  },
  {
   "cell_type": "code",
   "execution_count": 39,
   "id": "6e950263-1bf9-40b7-8033-c6abbecf6005",
   "metadata": {},
   "outputs": [],
   "source": [
    "#10) Find the index of the first occurrence of an element in a list."
   ]
  },
  {
   "cell_type": "code",
   "execution_count": null,
   "id": "292beaab-7d6f-4e91-ad8e-c89df2797176",
   "metadata": {},
   "outputs": [],
   "source": [
    "my_list=[1,2,3,4,5,2]\n",
    "element_to_find=2\n",
    "index=my_list.index(element_to_find)\n",
    "print(f\" The first occurance of {element_to_find} is at index  {index}.\""
   ]
  }
 ],
 "metadata": {
  "kernelspec": {
   "display_name": "Python 3 (ipykernel)",
   "language": "python",
   "name": "python3"
  },
  "language_info": {
   "codemirror_mode": {
    "name": "ipython",
    "version": 3
   },
   "file_extension": ".py",
   "mimetype": "text/x-python",
   "name": "python",
   "nbconvert_exporter": "python",
   "pygments_lexer": "ipython3",
   "version": "3.10.8"
  }
 },
 "nbformat": 4,
 "nbformat_minor": 5
}
