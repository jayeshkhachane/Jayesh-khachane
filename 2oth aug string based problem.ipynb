{
 "cells": [
  {
   "cell_type": "code",
   "execution_count": 1,
   "id": "932c7901-897f-4030-90a9-c0aa96a79d34",
   "metadata": {},
   "outputs": [],
   "source": [
    "#write a program reverse a string"
   ]
  },
  {
   "cell_type": "code",
   "execution_count": 2,
   "id": "0ce0973a-276b-46e5-8f6c-828a5fc6442d",
   "metadata": {},
   "outputs": [],
   "source": [
    "def reverse_string(string):\n",
    "    #use slicing to reverse the string\n",
    "    reversed_string = string[::-1]\n",
    "    return reversed_string"
   ]
  },
  {
   "cell_type": "code",
   "execution_count": 8,
   "id": "1bdb141f-ecfa-43d4-9f5e-0e608bd15d9d",
   "metadata": {},
   "outputs": [
    {
     "name": "stdout",
     "output_type": "stream",
     "text": [
      "Reversed string: :ENAHCAHK HSEYAJ\n"
     ]
    }
   ],
   "source": [
    "#TEST THE FUCTION\n",
    "str=(\"JAYESH KHACHANE:\")\n",
    "reversed_str=reverse_string(str)\n",
    "print(\"Reversed string:\",reversed_str)"
   ]
  },
  {
   "cell_type": "code",
   "execution_count": 13,
   "id": "b569d1cb-0c8b-48e6-80f4-751c5ffc01ab",
   "metadata": {},
   "outputs": [],
   "source": [
    "# 2)CHECK IF A STRING IS A PALINDROME\n",
    "#a string said to palidrome if the reverse of the string is same as a string"
   ]
  },
  {
   "cell_type": "code",
   "execution_count": 14,
   "id": "04656978-0d04-4a50-9d56-5c22f986d331",
   "metadata": {},
   "outputs": [],
   "source": [
    "def is_palindrome(input_string):\n",
    "    # Remove spaces and convert to lowercase for case-insensitive comparison\n",
    "    cleaned_string = input_string.replace(\" \", \"\").lower()\n",
    "    \n",
    "    # Reverse the string\n",
    "    reversed_string = cleaned_string[::-1]\n",
    "    \n",
    "    # Check if the original and reversed strings are the same\n",
    "    return cleaned_string == reversed_string"
   ]
  },
  {
   "cell_type": "code",
   "execution_count": 17,
   "id": "e9cf6d68-f9e4-4dc9-9e67-4e68681e681a",
   "metadata": {},
   "outputs": [
    {
     "name": "stdout",
     "output_type": "stream",
     "text": [
      "It's not a palindrome.\n"
     ]
    }
   ],
   "source": [
    "# Test the function\n",
    "str = (\"JAYESH KHACHANE\")\n",
    "if is_palindrome(str):\n",
    "    print(\"It's a palindrome!\")\n",
    "else:\n",
    "    print(\"It's not a palindrome.\")"
   ]
  },
  {
   "cell_type": "code",
   "execution_count": 18,
   "id": "11ea60e2-13a6-4787-b86c-8e613aecbab5",
   "metadata": {},
   "outputs": [],
   "source": [
    "# 3)CONVERT A STRING TO UPPERCASE"
   ]
  },
  {
   "cell_type": "code",
   "execution_count": 19,
   "id": "1202aba6-6d0a-4b4a-9aed-a75da339b059",
   "metadata": {},
   "outputs": [
    {
     "name": "stdout",
     "output_type": "stream",
     "text": [
      "uppercase string: JAYESH KHACHANE\n"
     ]
    }
   ],
   "source": [
    "str=(\"jayesh khachane\")\n",
    "uppercase_str=str.upper()\n",
    "print(\"uppercase string:\",uppercase_str)"
   ]
  },
  {
   "cell_type": "code",
   "execution_count": 21,
   "id": "e2efcb3f-e877-43be-9558-ebdd8dce4774",
   "metadata": {},
   "outputs": [
    {
     "name": "stdout",
     "output_type": "stream",
     "text": [
      "lowercase string: jayesh khachane,svit\n"
     ]
    }
   ],
   "source": [
    "# 4)CONVERT A STRING TO LOWERCASE \n",
    "str=(\"JAYESH KHACHANE,SVIT\")\n",
    "lowercase_str=str.lower()\n",
    "print(\"lowercase string:\",lowercase_str)"
   ]
  },
  {
   "cell_type": "code",
   "execution_count": 22,
   "id": "f75f02ce-807f-4812-a156-41cf05d932c3",
   "metadata": {},
   "outputs": [],
   "source": [
    "# 5) COUNT THE NUMBER OF VOWELS IN A STRING"
   ]
  },
  {
   "cell_type": "code",
   "execution_count": 27,
   "id": "3a38ca78-93e6-4a6d-ab58-5e35fa6846bf",
   "metadata": {},
   "outputs": [],
   "source": [
    "def count_vowels(string): #both lowercase and uppercase vowels\n",
    "    vowels= \"aeiouAEIOU\"\n",
    "    vowel_count=0\n",
    "     # Initialize a variable to store the count\n",
    "    vowel_count = 0\n",
    "    \n",
    "    # Iterate through the characters in the input string\n",
    "    for char in input_string:\n",
    "        # Check if the character is in the set of vowels\n",
    "        if char in vowels:\n",
    "            vowel_count += 1\n",
    "    \n",
    "    return vowel_count\n",
    "    \n",
    "    str=(\"aeiouAEIOU\")\n",
    "    vowel_count=count_vowels(str)\n",
    "    print(\"number of vowels:\",vowel_count)\n",
    "    "
   ]
  },
  {
   "cell_type": "code",
   "execution_count": 30,
   "id": "ff250cf0-6c28-4ae4-b158-57b78479d693",
   "metadata": {},
   "outputs": [],
   "source": [
    "#6) counnt the number off consonants in string"
   ]
  },
  {
   "cell_type": "code",
   "execution_count": 31,
   "id": "fb53a6a5-82bf-43fb-a846-98e9f3dacedf",
   "metadata": {},
   "outputs": [
    {
     "name": "stdout",
     "output_type": "stream",
     "text": [
      "Number of consonants: 0\n"
     ]
    }
   ],
   "source": [
    "def count_consonants(string):\n",
    "    # Define a set of vowels (both lowercase and uppercase)\n",
    "    vowels = \"aeiouAEIOU\"\n",
    "    \n",
    "    # Initialize a variable to store the count\n",
    "    consonant_count = 0\n",
    "    \n",
    "    # Iterate through the characters in the input string\n",
    "    for char in string:\n",
    "        # Check if the character is an alphabetic character and not a vowel\n",
    "        if char.isalpha() and char not in vowels:\n",
    "            consonant_count += 1\n",
    "    \n",
    "    return consonant_count\n",
    "\n",
    "# Test the function\n",
    "str = (\"aeiouAEIOU \")\n",
    "consonant_count = count_consonants(str)\n",
    "print(\"Number of consonants:\", consonant_count)\n"
   ]
  },
  {
   "cell_type": "code",
   "execution_count": 32,
   "id": "02f9f05a-cc9b-4cc4-83df-d5c84e3448ce",
   "metadata": {},
   "outputs": [],
   "source": [
    "#7) remove all whitespaces from a string"
   ]
  },
  {
   "cell_type": "code",
   "execution_count": null,
   "id": "c7a9e04c-ebe7-4ef6-a75d-102e6fca06fb",
   "metadata": {},
   "outputs": [],
   "source": [
    "input_str = input(\"Enter a string: \")\n",
    "no_whitespace_str = input_str.replace(\" \", \"\")\n",
    "print(\"String with whitespaces removed:\", no_whitespace_str)\n"
   ]
  },
  {
   "cell_type": "code",
   "execution_count": null,
   "id": "be55c825-6053-473f-b91d-b47bc3832dd9",
   "metadata": {},
   "outputs": [],
   "source": [
    "#8)find the first occurrence of a word in string \n",
    "\n",
    "def find_first_occurrence(input_string, target_word):\n",
    "    # Use the find() method to locate the first occurrence\n",
    "    index = input_string.find(target_word)\n",
    "\n",
    "    if index != -1:\n",
    "        return index  # Return the index of the first occurrence\n",
    "    else:\n",
    "        return None  # Return None if the word is not found\n",
    "\n",
    "# Test the function\n",
    "input_str = input(\"Enter a string: \")\n",
    "word_to_find = input(\"Enter the word to find: \")\n",
    "\n",
    "first_occurrence_index = find_first_occurrence(input_str, word_to_find)\n",
    "\n",
    "if first_occurrence_index is not None:\n",
    "    print(f\"The first occurrence of '{word_to_find}' starts at index {first_occurrence_index}.\")\n",
    "else:\n",
    "    print(f\"'{word_to_find}' was not found in the string.\")\n"
   ]
  },
  {
   "cell_type": "code",
   "execution_count": 1,
   "id": "03baa7e9-5462-4c8f-a537-a4c90fe156f8",
   "metadata": {},
   "outputs": [],
   "source": [
    "#9) split a string into a list of words  "
   ]
  },
  {
   "cell_type": "code",
   "execution_count": 2,
   "id": "cc15b8e6-3f39-420d-95fa-c19b2f52422f",
   "metadata": {},
   "outputs": [
    {
     "name": "stdout",
     "output_type": "stream",
     "text": [
      "list of words: ['enter', 'the', 'string']\n"
     ]
    }
   ],
   "source": [
    "str=(\"enter the string\")\n",
    "words_list=str.split()\n",
    "print(\"list of words:\",words_list)"
   ]
  },
  {
   "cell_type": "code",
   "execution_count": 3,
   "id": "fa3c3cdf-1aa0-4bcb-b571-e8202120306b",
   "metadata": {},
   "outputs": [],
   "source": [
    "#10) join  a list of words into a string\n"
   ]
  },
  {
   "cell_type": "code",
   "execution_count": 9,
   "id": "6961be44-84bf-4ab0-ab97-94e5668c2094",
   "metadata": {},
   "outputs": [
    {
     "name": "stdout",
     "output_type": "stream",
     "text": [
      "Joined string: hello world python programming\n"
     ]
    }
   ],
   "source": [
    "\n",
    "words_list=[\"hello\",\"world\",\"python\",\"programming\"]\n",
    "result_string =\" \".join(words_list)\n",
    "print(\"Joined string:\",result_string)\n"
   ]
  },
  {
   "cell_type": "code",
   "execution_count": null,
   "id": "efa5a1b8-cc1b-4c61-839e-8bc1abadc96b",
   "metadata": {},
   "outputs": [],
   "source": []
  }
 ],
 "metadata": {
  "kernelspec": {
   "display_name": "Python 3 (ipykernel)",
   "language": "python",
   "name": "python3"
  },
  "language_info": {
   "codemirror_mode": {
    "name": "ipython",
    "version": 3
   },
   "file_extension": ".py",
   "mimetype": "text/x-python",
   "name": "python",
   "nbconvert_exporter": "python",
   "pygments_lexer": "ipython3",
   "version": "3.10.8"
  }
 },
 "nbformat": 4,
 "nbformat_minor": 5
}
